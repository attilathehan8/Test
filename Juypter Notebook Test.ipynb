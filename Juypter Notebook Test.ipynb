{
 "cells": [
  {
   "cell_type": "markdown",
   "id": "5ac7f8f9",
   "metadata": {},
   "source": [
    "# This is a Juypter Notebook"
   ]
  },
  {
   "cell_type": "code",
   "execution_count": 2,
   "id": "99db1908",
   "metadata": {},
   "outputs": [
    {
     "name": "stdout",
     "output_type": "stream",
     "text": [
      "5\n"
     ]
    }
   ],
   "source": [
    "print (2+3)"
   ]
  },
  {
   "cell_type": "code",
   "execution_count": 3,
   "id": "cccaadd0",
   "metadata": {},
   "outputs": [
    {
     "data": {
      "text/plain": [
       "7"
      ]
     },
     "execution_count": 3,
     "metadata": {},
     "output_type": "execute_result"
    }
   ],
   "source": [
    "2+5"
   ]
  },
  {
   "cell_type": "markdown",
   "id": "b849c39b",
   "metadata": {},
   "source": [
    "# Y Markdown M Code"
   ]
  },
  {
   "cell_type": "code",
   "execution_count": null,
   "id": "3aa13139",
   "metadata": {},
   "outputs": [],
   "source": []
  }
 ],
 "metadata": {
  "kernelspec": {
   "display_name": "Python 3 (ipykernel)",
   "language": "python",
   "name": "python3"
  },
  "language_info": {
   "codemirror_mode": {
    "name": "ipython",
    "version": 3
   },
   "file_extension": ".py",
   "mimetype": "text/x-python",
   "name": "python",
   "nbconvert_exporter": "python",
   "pygments_lexer": "ipython3",
   "version": "3.9.5"
  }
 },
 "nbformat": 4,
 "nbformat_minor": 5
}
